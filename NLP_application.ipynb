{
  "nbformat": 4,
  "nbformat_minor": 0,
  "metadata": {
    "colab": {
      "provenance": [],
      "authorship_tag": "ABX9TyNmIcKLvhXKL1r9xOOriRGy",
      "include_colab_link": true
    },
    "kernelspec": {
      "name": "python3",
      "display_name": "Python 3"
    },
    "language_info": {
      "name": "python"
    }
  },
  "cells": [
    {
      "cell_type": "markdown",
      "metadata": {
        "id": "view-in-github",
        "colab_type": "text"
      },
      "source": [
        "<a href=\"https://colab.research.google.com/github/rubengilmartinez/NLP-application-Project/blob/main/NLP_application.ipynb\" target=\"_parent\"><img src=\"https://colab.research.google.com/assets/colab-badge.svg\" alt=\"Open In Colab\"/></a>"
      ]
    },
    {
      "cell_type": "markdown",
      "source": [
        "# **Aplicación PLN para análisis y procesamiento de texto de carácter geopolítico, económico y político.**"
      ],
      "metadata": {
        "id": "Bqp068oPXCvt"
      }
    },
    {
      "cell_type": "markdown",
      "source": [
        "**Primero de todo, extraeremos el corpus de documentos creando una aplicación para conectarnos a la API de Reddit y así poder extraer los datos.**"
      ],
      "metadata": {
        "id": "VDWYnXHXXCjm"
      }
    },
    {
      "cell_type": "markdown",
      "source": [],
      "metadata": {
        "id": "inlc5wE9XCE2"
      }
    },
    {
      "cell_type": "code",
      "source": [],
      "metadata": {
        "id": "6y8sMCKPXBD4"
      },
      "execution_count": null,
      "outputs": []
    },
    {
      "cell_type": "markdown",
      "source": [],
      "metadata": {
        "id": "5SR54c0cXBTI"
      }
    }
  ]
}