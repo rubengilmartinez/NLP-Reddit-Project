{
  "cells": [
    {
      "cell_type": "markdown",
      "metadata": {
        "id": "Bqp068oPXCvt"
      },
      "source": [
        "# **Aplicación PLN para análisis y procesamiento de texto de carácter geopolítico, económico y político.**"
      ]
    },
    {
      "cell_type": "markdown",
      "metadata": {
        "id": "VDWYnXHXXCjm"
      },
      "source": [
        "**Primero de todo, extraeremos el corpus de documentos creando una aplicación para conectarnos a la API de Reddit y así poder extraer los datos.**"
      ]
    },
    {
      "cell_type": "code",
      "execution_count": 1,
      "metadata": {
        "id": "6y8sMCKPXBD4"
      },
      "outputs": [],
      "source": [
        "import pandas as pd\n",
        "import numpy as np\n",
        "import requests\n",
        "import json\n",
        "import csv\n",
        "import datetime as dt\n",
        "import time"
      ]
    },
    {
      "cell_type": "markdown",
      "metadata": {
        "id": "DToORv1Ad7KP"
      },
      "source": []
    },
    {
      "cell_type": "code",
      "execution_count": 2,
      "metadata": {
        "colab": {
          "base_uri": "https://localhost:8080/",
          "height": 424
        },
        "id": "Q0nv_ktYdB0h",
        "outputId": "b5f185a7-7521-48c2-b061-5c262cb1d729"
      },
      "outputs": [
        {
          "data": {
            "text/html": [
              "<div>\n",
              "<style scoped>\n",
              "    .dataframe tbody tr th:only-of-type {\n",
              "        vertical-align: middle;\n",
              "    }\n",
              "\n",
              "    .dataframe tbody tr th {\n",
              "        vertical-align: top;\n",
              "    }\n",
              "\n",
              "    .dataframe thead th {\n",
              "        text-align: right;\n",
              "    }\n",
              "</style>\n",
              "<table border=\"1\" class=\"dataframe\">\n",
              "  <thead>\n",
              "    <tr style=\"text-align: right;\">\n",
              "      <th></th>\n",
              "      <th>texto</th>\n",
              "    </tr>\n",
              "  </thead>\n",
              "  <tbody>\n",
              "    <tr>\n",
              "      <th>0</th>\n",
              "      <td>Juan PÃ©rez visitÃ³ a su abuela en el pueblo d...</td>\n",
              "    </tr>\n",
              "    <tr>\n",
              "      <th>1</th>\n",
              "      <td>MarÃ­a GarcÃ­a, ganadora del premio de literat...</td>\n",
              "    </tr>\n",
              "    <tr>\n",
              "      <th>2</th>\n",
              "      <td>Carlos LÃ³pez, el nuevo director del proyecto,...</td>\n",
              "    </tr>\n",
              "    <tr>\n",
              "      <th>3</th>\n",
              "      <td>Ana MartÃ­nez, estudiante de medicina en la Un...</td>\n",
              "    </tr>\n",
              "    <tr>\n",
              "      <th>4</th>\n",
              "      <td>Luis FernÃ¡ndez, reconocido chef, inaugurÃ³ un...</td>\n",
              "    </tr>\n",
              "    <tr>\n",
              "      <th>...</th>\n",
              "      <td>...</td>\n",
              "    </tr>\n",
              "    <tr>\n",
              "      <th>94</th>\n",
              "      <td>El cantante Pharrell Williams ofreciÃ³ un conc...</td>\n",
              "    </tr>\n",
              "    <tr>\n",
              "      <th>95</th>\n",
              "      <td>La ciudad de Toronto albergÃ³ una conferencia ...</td>\n",
              "    </tr>\n",
              "    <tr>\n",
              "      <th>96</th>\n",
              "      <td>El cientÃ­fico Louis Pasteur fue recordado en ...</td>\n",
              "    </tr>\n",
              "    <tr>\n",
              "      <th>97</th>\n",
              "      <td>La empresa Airbnb anunciÃ³ una nueva funciÃ³n ...</td>\n",
              "    </tr>\n",
              "    <tr>\n",
              "      <th>98</th>\n",
              "      <td>El actor Ryan Reynolds visitÃ³ Vancouver para ...</td>\n",
              "    </tr>\n",
              "  </tbody>\n",
              "</table>\n",
              "<p>99 rows × 1 columns</p>\n",
              "</div>"
            ],
            "text/plain": [
              "                                                texto\n",
              "0   Juan PÃ©rez visitÃ³ a su abuela en el pueblo d...\n",
              "1   MarÃ­a GarcÃ­a, ganadora del premio de literat...\n",
              "2   Carlos LÃ³pez, el nuevo director del proyecto,...\n",
              "3   Ana MartÃ­nez, estudiante de medicina en la Un...\n",
              "4   Luis FernÃ¡ndez, reconocido chef, inaugurÃ³ un...\n",
              "..                                                ...\n",
              "94  El cantante Pharrell Williams ofreciÃ³ un conc...\n",
              "95  La ciudad de Toronto albergÃ³ una conferencia ...\n",
              "96  El cientÃ­fico Louis Pasteur fue recordado en ...\n",
              "97  La empresa Airbnb anunciÃ³ una nueva funciÃ³n ...\n",
              "98  El actor Ryan Reynolds visitÃ³ Vancouver para ...\n",
              "\n",
              "[99 rows x 1 columns]"
            ]
          },
          "execution_count": 2,
          "metadata": {},
          "output_type": "execute_result"
        }
      ],
      "source": [
        "df = pd.read_csv('../../P3_Analisis_MorfoSintactico/data/t3_frases_ner.csv', encoding='utf-8', sep='\"')\n",
        "df"
      ]
    },
    {
      "cell_type": "markdown",
      "metadata": {
        "id": "5SR54c0cXBTI"
      },
      "source": []
    }
  ],
  "metadata": {
    "colab": {
      "authorship_tag": "ABX9TyM7WT3JKuGij/JurAfV1xur",
      "include_colab_link": true,
      "provenance": []
    },
    "kernelspec": {
      "display_name": "base",
      "language": "python",
      "name": "python3"
    },
    "language_info": {
      "codemirror_mode": {
        "name": "ipython",
        "version": 3
      },
      "file_extension": ".py",
      "mimetype": "text/x-python",
      "name": "python",
      "nbconvert_exporter": "python",
      "pygments_lexer": "ipython3",
      "version": "3.12.3"
    }
  },
  "nbformat": 4,
  "nbformat_minor": 0
}
