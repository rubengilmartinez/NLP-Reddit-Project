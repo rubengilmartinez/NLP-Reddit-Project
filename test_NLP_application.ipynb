from sklearn.model_selection import GridSearchCV
import numpy as np

# Parameter grid for TF and TF-IDF models
param_grid_tf_tfidf = {
    'clf__kernel': ['linear', 'rbf', 'poly'],
    'clf__C': [0.1, 1, 10, 100],
    'clf__tol': [1e-3, 1e-4, 1e-5],
}

# Parameter grid for BM25 model
param_grid_bm25 = {
    'bm25__k': [0.8, 1.2, 1.6, 2.0],
    'bm25__b': [0.3, 0.5, 0.7],
    'clf__kernel': ['linear', 'rbf', 'poly'],
    'clf__C': [0.1, 1, 10, 100],
    'clf__tol': [1e-3, 1e-4, 1e-5],
}

# GridSearch for TF
grid_search_tf = GridSearchCV(
    clasificador_TF,
    param_grid_tf_tfidf,
    cv=5,
    n_jobs=-1,
    scoring='accuracy',
    verbose=2
)
grid_search_tf.fit(df_train.processed_text, df_train.subreddit)

# GridSearch for TF-IDF
grid_search_tfidf = GridSearchCV(
    clasificador_TFIDF,
    param_grid_tf_tfidf,
    cv=5,
    n_jobs=-1, 
    scoring='accuracy',
    verbose=2
)
grid_search_tfidf.fit(df_train.processed_text, df_train.subreddit)

# GridSearch for BM25
grid_search_bm25 = GridSearchCV(
    clasificador_BM25,
    param_grid_bm25,
    cv=5,
    n_jobs=-1,
    scoring='accuracy',
    verbose=2
)
grid_search_bm25.fit(df_train.processed_text, df_train.subreddit)

# Print best parameters and scores
print("\nBest parameters for TF:")
print(grid_search_tf.best_params_)
print(f"Best score: {grid_search_tf.best_score_:.3f}")

print("\nBest parameters for TF-IDF:")
print(grid_search_tfidf.best_params_)
print(f"Best score: {grid_search_tfidf.best_score_:.3f}")

print("\nBest parameters for BM25:")
print(grid_search_bm25.best_params_)
print(f"Best score: {grid_search_bm25.best_score_:.3f}")

# Create new optimized models with best parameters
best_tf = grid_search_tf.best_estimator_
best_tfidf = grid_search_tfidf.best_estimator_
best_bm25 = grid_search_bm25.best_estimator_

# Evaluate on test set
for name, model in [("TF", best_tf), ("TF-IDF", best_tfidf), ("BM25", best_bm25)]:
    pred = model.predict(df_test.processed_text)
    acc = accuracy_score(df_test.subreddit, pred)
    print(f"\n{name} Test Accuracy with optimized parameters: {acc:.3f}")
    print("\nClassification Report:")
    print(classification_report(df_test.subreddit, pred))